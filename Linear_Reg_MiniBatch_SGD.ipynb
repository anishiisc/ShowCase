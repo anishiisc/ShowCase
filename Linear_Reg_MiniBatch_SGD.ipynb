{
 "cells": [
  {
   "cell_type": "markdown",
   "metadata": {
    "collapsed": true,
    "jupyter": {
     "outputs_hidden": true
    }
   },
   "source": [
    "# Linear Reg with Mini Batch Stochastic Gradient Descent\n"
   ]
  },
  {
   "cell_type": "markdown",
   "metadata": {},
   "source": [
    "REFERENCES\n",
    "\n",
    "https://www.geeksforgeeks.org/ml-mini-batch-gradient-descent-with-python/\n",
    "\n",
    "https://realpython.com/gradient-descent-algorithm-python/\n",
    "\n",
    "https://towardsdatascience.com/implementing-sgd-from-scratch-d425db18a72c\n",
    "\n",
    "https://www.pyimagesearch.com/2016/10/17/stochastic-gradient-descent-sgd-with-python/\n",
    "\n",
    "https://www.geeksforgeeks.org/ml-stochastic-gradient-descent-sgd/?ref=rp\n",
    "\n"
   ]
  },
  {
   "cell_type": "markdown",
   "metadata": {},
   "source": [
    "## Gradient Descent and its Variants \n"
   ]
  },
  {
   "cell_type": "markdown",
   "metadata": {},
   "source": [
    "**Basic Concept**\n",
    "\n",
    "In machine learning, gradient descent is an optimization technique used for computing the model parameters (coefficients and bias) for algorithms like linear regression, logistic regression, neural networks, etc. In this technique, we repeatedly iterate through the training set and update the model parameters in accordance with the gradient of error with respect to the training set.\n",
    "\n",
    "**Types of Gradient descent**\n",
    "\n",
    "- **Batch Gradient Descent :**\n",
    "\n",
    "     - Parameters are updated after computing the gradient of error with respect to the entire training set\n",
    "     - Since entire training data is considered before taking a step in the direction of gradient, therefore it takes a lot of time for making a single update.\n",
    "    - It makes smooth updates in the model parameters\n",
    "\n",
    "- **Stochastic Gradient Descent:** \n",
    "\n",
    "     - Parameters are updated after computing the gradient of error with respect to a single training example\n",
    "     - Since only a single training example is considered before taking a step in the direction of gradient, we are forced to loop over the training set and thus cannot exploit the speed associated with vectorizing the code.\n",
    "     - It makes very noisy updates in the parameters\n",
    "     \n",
    "- **Mini-Batch Gradient Descent:** \n",
    "\n",
    "     - Parameters are updated after computing the gradient of error with respect to a subset of the training set\n",
    "     - Since a subset of training examples is considered, it can make quick updates in the model parameters and can also exploit the speed associated with vectorizing the code.\n",
    "     - Depending upon the batch size, the updates can be made less noisy – greater the batch size less noisy is the update"
   ]
  },
  {
   "cell_type": "markdown",
   "metadata": {},
   "source": [
    "### The Stochastic Concept vis a vis Plain Batch Gradient Descent \n",
    "\n",
    "**Stochastic**\n",
    "The word ‘stochastic‘ means a system or a process that is linked with a random probability. Hence, in Stochastic Gradient Descent, a few samples are selected randomly instead of the whole data set for each iteration. \n",
    "\n",
    "**Batch**\n",
    "In Gradient Descent, there is a term called “batch” which denotes the total number of samples from a dataset that is used for calculating the gradient for each iteration. \n",
    "\n",
    "In typical Gradient Descent optimization, like Batch Gradient Descent, the batch is taken to be the whole dataset. Although, using the whole dataset is really useful for getting to the minima in a less noisy and less random manner, but the problem arises when our datasets gets big.\n",
    "\n",
    "**Why Batch is inefficient for large data sets**\n",
    "Suppose, you have a million samples in your dataset, so if you use a typical Gradient Descent optimization technique, you will have to use all of the one million samples for completing one iteration while performing the Gradient Descent, and it has to be done for every iteration until the minima is reached. Hence, it becomes computationally very expensive to perform.\n",
    "\n",
    "**Stochastic Gradient Descent to the rescue**\n",
    "This problem is solved by Stochastic Gradient Descent. In SGD, it uses only a single sample, i.e., a batch size of one, to perform each iteration. The sample is randomly shuffled and selected for performing the iteration.\n",
    "\n",
    "**SGD : Noisy but faster?**\n",
    "So, in SGD, we find out the gradient of the cost function of a single example at each iteration instead of the sum of the gradient of the cost function of all the examples.\n",
    "\n",
    "In SGD, since only one sample from the dataset is chosen at random for each iteration, the path taken by the algorithm to reach the minima is usually noisier than your typical Gradient Descent algorithm. But that doesn’t matter all that much because the path taken by the algorithm does not matter, as long as we reach the minima and with significantly shorter training time.\n",
    "\n",
    "**Balance between speed and Noise?**\n",
    "The mini-batch gradient descent makes a compromise between the speedy convergence and the noise associated with gradient update which makes it a more flexible and robust algorithm."
   ]
  },
  {
   "cell_type": "markdown",
   "metadata": {},
   "source": [
    "### The Mini Batch Algorithm \n",
    "\n",
    "Let theta = model parameters and max_iters = number of epochs.\n",
    "\n",
    "for itr = 1, 2, 3, …, max_iters:\n",
    "\n",
    "      Select Randomly a Batch of 'K= batch size') \n",
    "      for mini_batch (X_mini, y_mini):\n",
    "\n",
    "**Forward Pass on the batch X_mini:**\n",
    "\n",
    "  Make predictions on the mini-batch\n",
    "  \n",
    "  Compute error in predictions (J(theta)) with the current values of the parameters\n",
    "  \n",
    "**Backward Pass:**\n",
    "\n",
    "  Compute gradient(theta) = partial derivative of J(theta) w.r.t. theta\n",
    "  \n",
    "  Update parameters:\n",
    "  theta = theta – learning_rate*gradient(theta)"
   ]
  },
  {
   "cell_type": "code",
   "execution_count": 1,
   "metadata": {
    "_cell_guid": "479748ca-639b-4448-ae21-3681170a65de",
    "_uuid": "22d41ba02b32da646889dba983ba08c08cb38f08",
    "jupyter": {
     "outputs_hidden": true
    }
   },
   "outputs": [],
   "source": [
    "# Import libraries\n",
    "import pandas as pd\n",
    "import numpy as np\n",
    "import matplotlib.pyplot as plt\n"
   ]
  },
  {
   "cell_type": "markdown",
   "metadata": {},
   "source": [
    "## Data Preparation \n",
    "\n",
    "**References**\n",
    "https://www.geeksforgeeks.org/ml-mini-batch-gradient-descent-with-python/\n",
    "\n",
    "https://medium.com/data-science-365/linear-regression-with-gradient-descent-895bb7d18d52\n"
   ]
  },
  {
   "cell_type": "code",
   "execution_count": 2,
   "metadata": {},
   "outputs": [
    {
     "data": {
      "text/html": [
       "<div>\n",
       "<style scoped>\n",
       "    .dataframe tbody tr th:only-of-type {\n",
       "        vertical-align: middle;\n",
       "    }\n",
       "\n",
       "    .dataframe tbody tr th {\n",
       "        vertical-align: top;\n",
       "    }\n",
       "\n",
       "    .dataframe thead th {\n",
       "        text-align: right;\n",
       "    }\n",
       "</style>\n",
       "<table border=\"1\" class=\"dataframe\">\n",
       "  <thead>\n",
       "    <tr style=\"text-align: right;\">\n",
       "      <th></th>\n",
       "      <th>TV</th>\n",
       "      <th>Radio</th>\n",
       "      <th>Newspaper</th>\n",
       "      <th>Sales</th>\n",
       "    </tr>\n",
       "  </thead>\n",
       "  <tbody>\n",
       "    <tr>\n",
       "      <th>0</th>\n",
       "      <td>230.1</td>\n",
       "      <td>37.8</td>\n",
       "      <td>69.2</td>\n",
       "      <td>22.1</td>\n",
       "    </tr>\n",
       "    <tr>\n",
       "      <th>1</th>\n",
       "      <td>44.5</td>\n",
       "      <td>39.3</td>\n",
       "      <td>45.1</td>\n",
       "      <td>10.4</td>\n",
       "    </tr>\n",
       "    <tr>\n",
       "      <th>2</th>\n",
       "      <td>17.2</td>\n",
       "      <td>45.9</td>\n",
       "      <td>69.3</td>\n",
       "      <td>9.3</td>\n",
       "    </tr>\n",
       "    <tr>\n",
       "      <th>3</th>\n",
       "      <td>151.5</td>\n",
       "      <td>41.3</td>\n",
       "      <td>58.5</td>\n",
       "      <td>18.5</td>\n",
       "    </tr>\n",
       "    <tr>\n",
       "      <th>4</th>\n",
       "      <td>180.8</td>\n",
       "      <td>10.8</td>\n",
       "      <td>58.4</td>\n",
       "      <td>12.9</td>\n",
       "    </tr>\n",
       "  </tbody>\n",
       "</table>\n",
       "</div>"
      ],
      "text/plain": [
       "      TV  Radio  Newspaper  Sales\n",
       "0  230.1   37.8       69.2   22.1\n",
       "1   44.5   39.3       45.1   10.4\n",
       "2   17.2   45.9       69.3    9.3\n",
       "3  151.5   41.3       58.5   18.5\n",
       "4  180.8   10.8       58.4   12.9"
      ]
     },
     "execution_count": 2,
     "metadata": {},
     "output_type": "execute_result"
    }
   ],
   "source": [
    "df = pd.read_csv('Advertising.csv')\n",
    "df.head()"
   ]
  },
  {
   "cell_type": "markdown",
   "metadata": {},
   "source": [
    "The Advertising dataset captures sales revenue generated with respect to advertisement spends across multiple channels like radio, TV and newspaper. As you can see, there are four columns in the dataset. Since our problem definition involves only sales and TV columns in the dataset, we do not need radio and newspaper columns. "
   ]
  },
  {
   "cell_type": "code",
   "execution_count": 3,
   "metadata": {},
   "outputs": [
    {
     "data": {
      "text/html": [
       "<div>\n",
       "<style scoped>\n",
       "    .dataframe tbody tr th:only-of-type {\n",
       "        vertical-align: middle;\n",
       "    }\n",
       "\n",
       "    .dataframe tbody tr th {\n",
       "        vertical-align: top;\n",
       "    }\n",
       "\n",
       "    .dataframe thead th {\n",
       "        text-align: right;\n",
       "    }\n",
       "</style>\n",
       "<table border=\"1\" class=\"dataframe\">\n",
       "  <thead>\n",
       "    <tr style=\"text-align: right;\">\n",
       "      <th></th>\n",
       "      <th>TV</th>\n",
       "      <th>Sales</th>\n",
       "    </tr>\n",
       "  </thead>\n",
       "  <tbody>\n",
       "    <tr>\n",
       "      <th>0</th>\n",
       "      <td>230.1</td>\n",
       "      <td>22.1</td>\n",
       "    </tr>\n",
       "    <tr>\n",
       "      <th>1</th>\n",
       "      <td>44.5</td>\n",
       "      <td>10.4</td>\n",
       "    </tr>\n",
       "    <tr>\n",
       "      <th>2</th>\n",
       "      <td>17.2</td>\n",
       "      <td>9.3</td>\n",
       "    </tr>\n",
       "    <tr>\n",
       "      <th>3</th>\n",
       "      <td>151.5</td>\n",
       "      <td>18.5</td>\n",
       "    </tr>\n",
       "    <tr>\n",
       "      <th>4</th>\n",
       "      <td>180.8</td>\n",
       "      <td>12.9</td>\n",
       "    </tr>\n",
       "  </tbody>\n",
       "</table>\n",
       "</div>"
      ],
      "text/plain": [
       "      TV  Sales\n",
       "0  230.1   22.1\n",
       "1   44.5   10.4\n",
       "2   17.2    9.3\n",
       "3  151.5   18.5\n",
       "4  180.8   12.9"
      ]
     },
     "execution_count": 3,
     "metadata": {},
     "output_type": "execute_result"
    }
   ],
   "source": [
    "# drop unwanted columns \n",
    "df.drop(columns=['Radio','Newspaper'],inplace=True)\n",
    "df.head()"
   ]
  },
  {
   "cell_type": "code",
   "execution_count": 4,
   "metadata": {},
   "outputs": [
    {
     "data": {
      "text/plain": [
       "TV       0\n",
       "Sales    0\n",
       "dtype: int64"
      ]
     },
     "execution_count": 4,
     "metadata": {},
     "output_type": "execute_result"
    }
   ],
   "source": [
    "df.isnull().sum()"
   ]
  },
  {
   "cell_type": "markdown",
   "metadata": {},
   "source": [
    "### Parameter Initialization \n",
    "\n",
    "We know that equation of a simple linear regression is expressed as:\n",
    "\n",
    "$$ \\hat{y} = mx + b  $$\n",
    "\n",
    "Thus, we have two parameters $m$ and $b$.  We store both of these parameter $m$ and $b$ in an array called theta. First, we initialize theta with zeros"
   ]
  },
  {
   "cell_type": "code",
   "execution_count": 7,
   "metadata": {},
   "outputs": [],
   "source": [
    "# define X, Y , Theta \n",
    "#---------------------------\n",
    "N = df['Sales'].values.size  # number of observations \n",
    "x = np.append(np.ones((N,1)),df['TV'].values.reshape(N,1),axis=1)\n",
    "y = df['Sales'].values.reshape(N,1)\n",
    "theta = np.zeros((2,1))\n"
   ]
  },
  {
   "cell_type": "code",
   "execution_count": 8,
   "metadata": {},
   "outputs": [
    {
     "name": "stdout",
     "output_type": "stream",
     "text": [
      "(160, 2) (40, 2) (160, 1) (40, 1)\n"
     ]
    }
   ],
   "source": [
    "# test train split\n",
    "from sklearn.model_selection import train_test_split\n",
    "\n",
    "# split into train test sets\n",
    "X_train, X_test, y_train, y_test = train_test_split(x, y, test_size=0.2)\n",
    "\n",
    "print(X_train.shape, X_test.shape, y_train.shape, y_test.shape)"
   ]
  },
  {
   "cell_type": "markdown",
   "metadata": {},
   "source": [
    "### Loss function \n",
    "\n",
    "\n",
    "Mean Squared Error (MSE) of Regression is given as:\n",
    "\n",
    "$$J=\\frac{1}{2N} \\sum_{i=1}^{N}(y-\\hat{y})^{2} -- (2) $$\n",
    "\n",
    "\n",
    "Where $N$ is the number of training samples, $y$ is the actual value and $\\hat{y}$ is the predicted value.\n",
    "\n",
    "The above loss function can be implemented as:\n",
    "\n",
    "We feed the data and the model parameter theta to the loss function which returns the MSE. Remember, data[,0] has $x$ value and data[,1] has $y$ value. Similarly, theta [0] has a value of $m$ and theta[1] has a value of $b$. "
   ]
  },
  {
   "cell_type": "code",
   "execution_count": 31,
   "metadata": {},
   "outputs": [],
   "source": [
    "#define predict function \n",
    "def predict(x,theta):\n",
    "    y_pred = np.dot(x,theta)\n",
    "    return y_pred"
   ]
  },
  {
   "cell_type": "code",
   "execution_count": 32,
   "metadata": {},
   "outputs": [],
   "source": [
    "# define loss function \n",
    "def mse_loss(x,Y,theta):\n",
    "    y_pred = np.dot(x,theta)\n",
    "    sqrd_err = (Y - y_pred)**2\n",
    "    loss = (1/(2*N))*np.sum(sqrd_err)\n",
    "    return loss \n"
   ]
  },
  {
   "cell_type": "markdown",
   "metadata": {},
   "source": [
    "Now, we need to minimize this loss. In order to minimize the loss, we need to calculate the gradient of the loss function $J$ with respect to the model parameters $m$ and $b$ and update the parameter according to the parameter update rule. So, first, we will calculate the gradient of the loss function.\n",
    "\n",
    "\n",
    "**NOTE**\n",
    "For Mini Batch Gradient Descent : The summation is for all rows for the mini batch chosen currently \n",
    "\n",
    "\n",
    "### Gradients of Loss Function \n",
    "\n",
    "\n",
    "Gradients of loss function $J$ with respect to parameter $m$ is given as:\n",
    "\n",
    "\n",
    "$$ \\frac{d J}{d m}=\\frac{2}{N} \\sum_{i=1}^{N}-x_{i}\\left(y_{i}-\\left(m x_{i}+b\\right)\\right) -- (3) $$\n",
    "\n",
    "\n",
    "Gradients of loss function $J$ with respect to parameter $b$ is given as:\n",
    "\n",
    "\n",
    "$$ \\frac{d J}{d b}=\\frac{2}{N} \\sum_{i=1}^{N}-\\left(y_{i}-\\left(m x_{i}+b\\right)\\right) -- (4) $$\n",
    "\n"
   ]
  },
  {
   "cell_type": "markdown",
   "metadata": {},
   "source": [
    "\n",
    "\n",
    "### Update Rule\n",
    "\n",
    "After computing gradients we need to update our model paramater according to our update rule as given below:\n",
    "\n",
    "$$m=m-\\alpha \\frac{d J}{d m} -- (5) $$ \n",
    "\n",
    "$$ b=b-\\alpha \\frac{d J}{d b} --(6) $$\n",
    "\n",
    "\n",
    "Since we stored $m$ in theta[0] and $b$ in theta[1], we can write our update equation as: \n",
    "\n",
    "$$\\theta = \\theta - \\alpha \\frac{dJ}{d\\theta} -- (7) $$\n",
    "\n",
    "As we learned in the previous section, updating gradients for just one time will not lead us to the convergence i.e minimum of the cost function, so we need to compute gradients and the update the model parameter for several iterations:"
   ]
  },
  {
   "cell_type": "markdown",
   "metadata": {},
   "source": [
    "### Defining the Stochastic Gradient Descent function "
   ]
  },
  {
   "cell_type": "code",
   "execution_count": 109,
   "metadata": {},
   "outputs": [],
   "source": [
    "def Stochastic_Gradient_Desc(x,Y,learn_rate=0.000068,num_iter=400000,batch_size=64):\n",
    "    losses = []\n",
    "    theta = np.zeros((2,1))\n",
    "    temp_data = np.hstack((x,Y))\n",
    "    np.random.shuffle(temp_data)\n",
    "    for i in range(num_iter):\n",
    "        # Randomly Select a batch from temp_data \n",
    "        number_of_rows = temp_data.shape[0]\n",
    "        random_indices = np.random.choice(number_of_rows, size=batch_size, replace=False)\n",
    "        data = temp_data[random_indices, :]\n",
    "        ydata = data[:,-1].reshape(data.shape[0],1)\n",
    "        xdata = data[:,0:x.shape[1]]\n",
    "\n",
    "        # Forward Pass : Predict \n",
    "        y_pred = predict(xdata,theta)\n",
    "        # Compute Loss at current theta value \n",
    "        loss = mse_loss(xdata,ydata,theta)\n",
    "        \n",
    "        # Compute derivatives \n",
    "        der = np.dot(xdata.transpose(),(y_pred-ydata))/N\n",
    "        theta -= learn_rate*der\n",
    "        #print(theta)\n",
    "        losses.append(loss)\n",
    "        \n",
    "    return theta, losses,learn_rate    "
   ]
  },
  {
   "cell_type": "markdown",
   "metadata": {},
   "source": [
    "### MODEL TRAIN"
   ]
  },
  {
   "cell_type": "code",
   "execution_count": 110,
   "metadata": {},
   "outputs": [
    {
     "name": "stdout",
     "output_type": "stream",
     "text": [
      "[[6.27547202]\n",
      " [0.0528532 ]]\n"
     ]
    }
   ],
   "source": [
    "# Train SGD \n",
    "theta, losses,alpha = Stochastic_Gradient_Desc(X_train,y_train)\n",
    "print(theta)"
   ]
  },
  {
   "cell_type": "markdown",
   "metadata": {},
   "source": [
    "### Plot Loss curve "
   ]
  },
  {
   "cell_type": "code",
   "execution_count": 111,
   "metadata": {},
   "outputs": [],
   "source": [
    "def plot_loss(losses,alpha):\n",
    "    fig, ax = plt.subplots(figsize = (9,6))\n",
    "    ax.plot(losses)\n",
    "    ax.set_title(\"Grad Descent loss values Vs iterations\",pad=20,size=18,color='gray')\n",
    "    ax.set_ylabel(\"losses for  Learning rate =\" + str(alpha))\n",
    "    ax.set_xlabel(\"Iterations\")"
   ]
  },
  {
   "cell_type": "code",
   "execution_count": 63,
   "metadata": {},
   "outputs": [
    {
     "data": {
      "image/png": "[encoded data removed]",
      "text/plain": [
       "<Figure size 648x432 with 1 Axes>"
      ]
     },
     "metadata": {
      "needs_background": "light"
     },
     "output_type": "display_data"
    }
   ],
   "source": [
    "plot_loss(losses,alpha)"
   ]
  },
  {
   "cell_type": "code",
   "execution_count": 112,
   "metadata": {},
   "outputs": [],
   "source": [
    "# Accuracy function \n",
    "def get_accuracy(y_pred,y):\n",
    "    y_mean = y.mean()\n",
    "    # Coeff of determination - R squared : Pearson correlation is chosen between y and y_pred\n",
    "    corrmat = np.corrcoef(y.flatten(),y_pred.flatten())\n",
    "    pearson_corr = corrmat[0,1]\n",
    "    R_sq = pearson_corr**2\n",
    "    # Mean Square Error \n",
    "    MSE = ((y - y_pred)**2).mean()\n",
    "    # Root Mean Square Error \n",
    "    RMSE = np.sqrt(MSE)\n",
    "    accu_dict = {\"R_sq\":[np.round(R_sq,2)],\"RMSE\":[np.round(RMSE,2)]}\n",
    "    return accu_dict\n"
   ]
  },
  {
   "cell_type": "code",
   "execution_count": 113,
   "metadata": {},
   "outputs": [],
   "source": [
    "def print_accuracy(accu_dict):\n",
    "    accu_df = pd.DataFrame(accu_dict)\n",
    "    pd.set_option('display.max_rows', None)\n",
    "    pd.set_option('display.max_columns', None)\n",
    "    pd.set_option('display.width', 1000)\n",
    "    pd.set_option('display.colheader_justify', 'center')\n",
    "    pd.set_option('display.precision', 2)\n",
    "    display(accu_df)"
   ]
  },
  {
   "cell_type": "markdown",
   "metadata": {},
   "source": [
    "### MODEL TEST "
   ]
  },
  {
   "cell_type": "markdown",
   "metadata": {},
   "source": [
    "#### Train Accuracy "
   ]
  },
  {
   "cell_type": "code",
   "execution_count": 114,
   "metadata": {},
   "outputs": [
    {
     "data": {
      "text/html": [
       "<div>\n",
       "<style scoped>\n",
       "    .dataframe tbody tr th:only-of-type {\n",
       "        vertical-align: middle;\n",
       "    }\n",
       "\n",
       "    .dataframe tbody tr th {\n",
       "        vertical-align: top;\n",
       "    }\n",
       "\n",
       "    .dataframe thead th {\n",
       "        text-align: right;\n",
       "    }\n",
       "</style>\n",
       "<table border=\"1\" class=\"dataframe\">\n",
       "  <thead>\n",
       "    <tr style=\"text-align: right;\">\n",
       "      <th></th>\n",
       "      <th>R_sq</th>\n",
       "      <th>RMSE</th>\n",
       "    </tr>\n",
       "  </thead>\n",
       "  <tbody>\n",
       "    <tr>\n",
       "      <th>0</th>\n",
       "      <td>0.59</td>\n",
       "      <td>3.33</td>\n",
       "    </tr>\n",
       "  </tbody>\n",
       "</table>\n",
       "</div>"
      ],
      "text/plain": [
       "   R_sq  RMSE\n",
       "0  0.59  3.33"
      ]
     },
     "metadata": {},
     "output_type": "display_data"
    }
   ],
   "source": [
    "# predict on train data \n",
    "y_pred_train = predict(X_train,theta)\n",
    "# get accuracy\n",
    "accu_dict_train = get_accuracy(y_pred_train,y_train)\n",
    "df1 = pd.DataFrame.from_dict(accu_dict_train)\n",
    "display(df1)"
   ]
  },
  {
   "cell_type": "markdown",
   "metadata": {},
   "source": [
    "#### Test Accuracy"
   ]
  },
  {
   "cell_type": "code",
   "execution_count": 115,
   "metadata": {},
   "outputs": [
    {
     "data": {
      "text/html": [
       "<div>\n",
       "<style scoped>\n",
       "    .dataframe tbody tr th:only-of-type {\n",
       "        vertical-align: middle;\n",
       "    }\n",
       "\n",
       "    .dataframe tbody tr th {\n",
       "        vertical-align: top;\n",
       "    }\n",
       "\n",
       "    .dataframe thead th {\n",
       "        text-align: right;\n",
       "    }\n",
       "</style>\n",
       "<table border=\"1\" class=\"dataframe\">\n",
       "  <thead>\n",
       "    <tr style=\"text-align: right;\">\n",
       "      <th></th>\n",
       "      <th>R_sq</th>\n",
       "      <th>RMSE</th>\n",
       "    </tr>\n",
       "  </thead>\n",
       "  <tbody>\n",
       "    <tr>\n",
       "      <th>0</th>\n",
       "      <td>0.68</td>\n",
       "      <td>3.02</td>\n",
       "    </tr>\n",
       "  </tbody>\n",
       "</table>\n",
       "</div>"
      ],
      "text/plain": [
       "   R_sq  RMSE\n",
       "0  0.68  3.02"
      ]
     },
     "metadata": {},
     "output_type": "display_data"
    }
   ],
   "source": [
    "# predict on test data \n",
    "y_pred_test = predict(X_test,theta)\n",
    "# get accuracy\n",
    "accu_dict_test = get_accuracy(y_pred_test,y_test)\n",
    "df2 = pd.DataFrame.from_dict(accu_dict_test)\n",
    "display(df2)"
   ]
  },
  {
   "cell_type": "code",
   "execution_count": null,
   "metadata": {},
   "outputs": [],
   "source": []
  }
 ],
 "metadata": {
  "kernelspec": {
   "display_name": "Python 3",
   "language": "python",
   "name": "python3"
  },
  "language_info": {
   "codemirror_mode": {
    "name": "ipython",
    "version": 3
   },
   "file_extension": ".py",
   "mimetype": "text/x-python",
   "name": "python",
   "nbconvert_exporter": "python",
   "pygments_lexer": "ipython3",
   "version": "3.8.3"
  }
 },
 "nbformat": 4,
 "nbformat_minor": 4
}
