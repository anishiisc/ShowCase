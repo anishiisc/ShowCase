{
 "cells": [
  {
   "cell_type": "markdown",
   "metadata": {},
   "source": [
    "#  LXML Example 5 IMDB Scraper  "
   ]
  },
  {
   "cell_type": "code",
   "execution_count": 1,
   "metadata": {},
   "outputs": [],
   "source": [
    "# Imports \n",
    "import lxml.html\n",
    "import pandas as pd\n",
    "from lxml import etree\n",
    "from lxml import html\n",
    "import requests "
   ]
  },
  {
   "cell_type": "markdown",
   "metadata": {},
   "source": [
    "### Get HTML Data "
   ]
  },
  {
   "cell_type": "code",
   "execution_count": 2,
   "metadata": {},
   "outputs": [
    {
     "name": "stdout",
     "output_type": "stream",
     "text": [
      "<class 'lxml.html.HtmlElement'>\n"
     ]
    }
   ],
   "source": [
    "from lxml import html\n",
    "import lxml\n",
    "from urllib.request import urlopen\n",
    "root = html.parse(urlopen('https://www.imdb.com/search/title/?count=100&groups=top_1000&sort=user_rating')).getroot()\n",
    "\n",
    "# Check data types \n",
    "print(type(root)) #<class 'lxml.html.HtmlElement'>"
   ]
  },
  {
   "cell_type": "code",
   "execution_count": 30,
   "metadata": {},
   "outputs": [
    {
     "data": {
      "text/plain": [
       "list"
      ]
     },
     "execution_count": 30,
     "metadata": {},
     "output_type": "execute_result"
    }
   ],
   "source": [
    "#base element\n",
    "articles = root.xpath(\"//*[@id='styleguide-v2']/div[3]/div/div[2]/div[2]/div/div/div[3]/div/div/div[3]\")\n",
    "#article = root.xpath(\"//*[@class='lister-item-content']\")\n",
    "type(article)"
   ]
  },
  {
   "cell_type": "code",
   "execution_count": 34,
   "metadata": {},
   "outputs": [
    {
     "name": "stdout",
     "output_type": "stream",
     "text": [
      "<Element div at 0x7ff8d85645e0>\n"
     ]
    }
   ],
   "source": [
    "Article = article[0]\n",
    "type(Article)\n",
    "print(Article)"
   ]
  },
  {
   "cell_type": "markdown",
   "metadata": {},
   "source": [
    "### Get Individual elements inside base element using XPath "
   ]
  },
  {
   "cell_type": "code",
   "execution_count": 46,
   "metadata": {},
   "outputs": [
    {
     "name": "stdout",
     "output_type": "stream",
     "text": [
      "<class 'lxml.html.HtmlElement'>\n",
      "['The Shawshank Redemption', 'The Godfather', 'The Dark Knight', 'The Godfather: Part II', 'The Lord of the Rings: The Return of the King', 'Pulp Fiction', \"Schindler's List\", '12 Angry Men', 'Inception', 'Fight Club', 'The Lord of the Rings: The Fellowship of the Ring', 'Forrest Gump', 'Il buono, il brutto, il cattivo', 'Hamilton', 'The Lord of the Rings: The Two Towers', 'The Matrix', 'Goodfellas', 'Star Wars: Episode V - The Empire Strikes Back', \"One Flew Over the Cuckoo's Nest\", 'Gisaengchung', 'Interstellar', 'Cidade de Deus', 'Sen to Chihiro no kamikakushi', 'Saving Private Ryan', 'The Green Mile', 'La vita è bella', 'Se7en', 'The Silence of the Lambs', 'Star Wars', 'Seppuku', 'Shichinin no samurai', \"It's a Wonderful Life\", 'Joker', 'Whiplash', 'The Intouchables', 'The Prestige', 'The Departed', 'The Pianist', 'Gladiator', 'American History X', 'The Usual Suspects', 'Léon', 'The Lion King', 'Terminator 2: Judgment Day', 'Nuovo Cinema Paradiso', 'Hotaru no haka', 'Back to the Future', 'Anand', 'Once Upon a Time in the West', 'Psycho', 'Casablanca', 'Modern Times', 'City Lights', 'Capharnaüm', 'Ayla: The Daughter of War', 'Kimi no na wa.', 'Dangal', 'Spider-Man: Into the Spider-Verse', 'Avengers: Endgame', 'Avengers: Infinity War', 'Coco', 'Django Unchained', 'The Dark Knight Rises', '3 Idiots', 'Taare Zameen Par', 'WALL·E', 'The Lives of Others', 'Oldeuboi', 'Memento', 'Mononoke-hime', 'Once Upon a Time in America', 'Raiders of the Lost Ark', 'The Shining', 'Apocalypse Now', 'Alien', 'Tengoku to jigoku', 'Dr. Strangelove or: How I Learned to Stop Worrying and Love the Bomb', 'Witness for the Prosecution', 'Paths of Glory', 'Rear Window', 'Sunset Blvd.', 'The Great Dictator', '1917', 'Uri: The Surgical Strike', 'Tumbbad', 'Andhadhun', 'Drishyam', 'Jagten', 'Jodaeiye Nader az Simin', 'Incendies', 'Yedinci Kogustaki Mucize', 'Babam ve Oglum', 'Toy Story 3', 'Inglourious Basterds', 'Eternal Sunshine of the Spotless Mind', 'Amélie', 'Snatch', 'Requiem for a Dream', 'American Beauty', 'Good Will Hunting']\n",
      "<class 'lxml.html.HtmlElement'>\n",
      "['The Shawshank Redemption', 'The Godfather', 'The Dark Knight', 'The Godfather: Part II', 'The Lord of the Rings: The Return of the King', 'Pulp Fiction', \"Schindler's List\", '12 Angry Men', 'Inception', 'Fight Club', 'The Lord of the Rings: The Fellowship of the Ring', 'Forrest Gump', 'Il buono, il brutto, il cattivo', 'Hamilton', 'The Lord of the Rings: The Two Towers', 'The Matrix', 'Goodfellas', 'Star Wars: Episode V - The Empire Strikes Back', \"One Flew Over the Cuckoo's Nest\", 'Gisaengchung', 'Interstellar', 'Cidade de Deus', 'Sen to Chihiro no kamikakushi', 'Saving Private Ryan', 'The Green Mile', 'La vita è bella', 'Se7en', 'The Silence of the Lambs', 'Star Wars', 'Seppuku', 'Shichinin no samurai', \"It's a Wonderful Life\", 'Joker', 'Whiplash', 'The Intouchables', 'The Prestige', 'The Departed', 'The Pianist', 'Gladiator', 'American History X', 'The Usual Suspects', 'Léon', 'The Lion King', 'Terminator 2: Judgment Day', 'Nuovo Cinema Paradiso', 'Hotaru no haka', 'Back to the Future', 'Anand', 'Once Upon a Time in the West', 'Psycho', 'Casablanca', 'Modern Times', 'City Lights', 'Capharnaüm', 'Ayla: The Daughter of War', 'Kimi no na wa.', 'Dangal', 'Spider-Man: Into the Spider-Verse', 'Avengers: Endgame', 'Avengers: Infinity War', 'Coco', 'Django Unchained', 'The Dark Knight Rises', '3 Idiots', 'Taare Zameen Par', 'WALL·E', 'The Lives of Others', 'Oldeuboi', 'Memento', 'Mononoke-hime', 'Once Upon a Time in America', 'Raiders of the Lost Ark', 'The Shining', 'Apocalypse Now', 'Alien', 'Tengoku to jigoku', 'Dr. Strangelove or: How I Learned to Stop Worrying and Love the Bomb', 'Witness for the Prosecution', 'Paths of Glory', 'Rear Window', 'Sunset Blvd.', 'The Great Dictator', '1917', 'Uri: The Surgical Strike', 'Tumbbad', 'Andhadhun', 'Drishyam', 'Jagten', 'Jodaeiye Nader az Simin', 'Incendies', 'Yedinci Kogustaki Mucize', 'Babam ve Oglum', 'Toy Story 3', 'Inglourious Basterds', 'Eternal Sunshine of the Spotless Mind', 'Amélie', 'Snatch', 'Requiem for a Dream', 'American Beauty', 'Good Will Hunting']\n",
      "<class 'lxml.html.HtmlElement'>\n",
      "['The Shawshank Redemption', 'The Godfather', 'The Dark Knight', 'The Godfather: Part II', 'The Lord of the Rings: The Return of the King', 'Pulp Fiction', \"Schindler's List\", '12 Angry Men', 'Inception', 'Fight Club', 'The Lord of the Rings: The Fellowship of the Ring', 'Forrest Gump', 'Il buono, il brutto, il cattivo', 'Hamilton', 'The Lord of the Rings: The Two Towers', 'The Matrix', 'Goodfellas', 'Star Wars: Episode V - The Empire Strikes Back', \"One Flew Over the Cuckoo's Nest\", 'Gisaengchung', 'Interstellar', 'Cidade de Deus', 'Sen to Chihiro no kamikakushi', 'Saving Private Ryan', 'The Green Mile', 'La vita è bella', 'Se7en', 'The Silence of the Lambs', 'Star Wars', 'Seppuku', 'Shichinin no samurai', \"It's a Wonderful Life\", 'Joker', 'Whiplash', 'The Intouchables', 'The Prestige', 'The Departed', 'The Pianist', 'Gladiator', 'American History X', 'The Usual Suspects', 'Léon', 'The Lion King', 'Terminator 2: Judgment Day', 'Nuovo Cinema Paradiso', 'Hotaru no haka', 'Back to the Future', 'Anand', 'Once Upon a Time in the West', 'Psycho', 'Casablanca', 'Modern Times', 'City Lights', 'Capharnaüm', 'Ayla: The Daughter of War', 'Kimi no na wa.', 'Dangal', 'Spider-Man: Into the Spider-Verse', 'Avengers: Endgame', 'Avengers: Infinity War', 'Coco', 'Django Unchained', 'The Dark Knight Rises', '3 Idiots', 'Taare Zameen Par', 'WALL·E', 'The Lives of Others', 'Oldeuboi', 'Memento', 'Mononoke-hime', 'Once Upon a Time in America', 'Raiders of the Lost Ark', 'The Shining', 'Apocalypse Now', 'Alien', 'Tengoku to jigoku', 'Dr. Strangelove or: How I Learned to Stop Worrying and Love the Bomb', 'Witness for the Prosecution', 'Paths of Glory', 'Rear Window', 'Sunset Blvd.', 'The Great Dictator', '1917', 'Uri: The Surgical Strike', 'Tumbbad', 'Andhadhun', 'Drishyam', 'Jagten', 'Jodaeiye Nader az Simin', 'Incendies', 'Yedinci Kogustaki Mucize', 'Babam ve Oglum', 'Toy Story 3', 'Inglourious Basterds', 'Eternal Sunshine of the Spotless Mind', 'Amélie', 'Snatch', 'Requiem for a Dream', 'American Beauty', 'Good Will Hunting']\n"
     ]
    }
   ],
   "source": [
    "# Intialize LISTS \n",
    "Titles = []\n",
    "Ratings = []\n",
    "\n",
    "ind = 0 \n",
    "for element in Article:\n",
    "    ind = ind+ 1\n",
    "    if ind ==1:\n",
    "       # Get Title information \n",
    "        cnt = 0  \n",
    "        for item in element:\n",
    "            print(type(item))\n",
    "            title = item.xpath(\"//h3/a/text()\")\n",
    "            print(title)\n",
    "        #print(ind)\n",
    "        #print(type(title))\n",
    "    # Append Title information \n",
    "            Titles.append(title)\n",
    "    # Get Ratings\n",
    "        #rating = item.xpath(\"//div/div/strong/text()\")\n",
    "    # Append ratings\n",
    "            Ratings.append(rating)\n",
    "\n",
    "\n",
    "# Check \n",
    "#Title_Lists\n",
    "#Rating_Lists"
   ]
  },
  {
   "cell_type": "markdown",
   "metadata": {},
   "source": [
    "### Merge and Convert to DF "
   ]
  },
  {
   "cell_type": "code",
   "execution_count": 48,
   "metadata": {},
   "outputs": [],
   "source": [
    "#Merging all \n",
    "dataset = zip(Titles[0],Ratings[0])\n",
    "dlist = list(dataset)"
   ]
  },
  {
   "cell_type": "code",
   "execution_count": 50,
   "metadata": {},
   "outputs": [
    {
     "name": "stdout",
     "output_type": "stream",
     "text": [
      "                                            title rating\n",
      "0                        The Shawshank Redemption    9.3\n",
      "1                                   The Godfather    9.2\n",
      "2                                 The Dark Knight    9.0\n",
      "3                          The Godfather: Part II    9.0\n",
      "4   The Lord of the Rings: The Return of the King    8.9\n",
      "..                                            ...    ...\n",
      "95                                         Amélie    8.3\n",
      "96                                         Snatch    8.3\n",
      "97                            Requiem for a Dream    8.3\n",
      "98                                American Beauty    8.3\n",
      "99                              Good Will Hunting    8.3\n",
      "\n",
      "[100 rows x 2 columns]\n"
     ]
    }
   ],
   "source": [
    "df = pd.DataFrame(data=dlist,columns=['title','rating'])\n",
    "print(df)\n",
    "#Write csv \n",
    "df.to_csv(\"IMDB_Movie_Ratings.csv\")"
   ]
  },
  {
   "cell_type": "code",
   "execution_count": null,
   "metadata": {},
   "outputs": [],
   "source": []
  }
 ],
 "metadata": {
  "kernelspec": {
   "display_name": "Python 3",
   "language": "python",
   "name": "python3"
  },
  "language_info": {
   "codemirror_mode": {
    "name": "ipython",
    "version": 3
   },
   "file_extension": ".py",
   "mimetype": "text/x-python",
   "name": "python",
   "nbconvert_exporter": "python",
   "pygments_lexer": "ipython3",
   "version": "3.8.3"
  }
 },
 "nbformat": 4,
 "nbformat_minor": 4
}
