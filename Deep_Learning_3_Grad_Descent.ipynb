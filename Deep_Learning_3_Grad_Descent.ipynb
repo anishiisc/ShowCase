{
 "cells": [
  {
   "cell_type": "markdown",
   "metadata": {
    "collapsed": true,
    "jupyter": {
     "outputs_hidden": true
    }
   },
   "source": [
    "# Gradient Descent in Regression \n"
   ]
  },
  {
   "cell_type": "code",
   "execution_count": 9,
   "metadata": {
    "_cell_guid": "479748ca-639b-4448-ae21-3681170a65de",
    "_uuid": "22d41ba02b32da646889dba983ba08c08cb38f08",
    "jupyter": {
     "outputs_hidden": true
    }
   },
   "outputs": [],
   "source": [
    "# Imports \n",
    "import random \n",
    "import math \n",
    "import numpy as np \n",
    "import matplotlib.pyplot as plt\n",
    "%matplotlib inline"
   ]
  },
  {
   "cell_type": "markdown",
   "metadata": {},
   "source": [
    "### Prepare Data \n",
    "\n",
    "https://www.sohamkamani.com/blog/2018/01/28/linear-regression-with-python/\n",
    "\n",
    "https://www.mlguides.com/guides/data-analysis/generate-test-data-machine-learning-python-using-scikit-learn/"
   ]
  },
  {
   "cell_type": "code",
   "execution_count": null,
   "metadata": {},
   "outputs": [],
   "source": [
    "#"
   ]
  },
  {
   "cell_type": "code",
   "execution_count": 3,
   "metadata": {
    "_cell_guid": "0841452d-e539-4ece-85d1-15d360043c09",
    "_uuid": "86182358544562cbe369b51e9814655acde61586",
    "jupyter": {
     "outputs_hidden": true
    }
   },
   "outputs": [],
   "source": [
    "# define Gradient_Descent Class \n",
    "\n",
    "class Grad_Desc:\n",
    "    def __init__(self,x,y):\n",
    "        self.input =  x\n",
    "        self.y = y\n",
    "        self.output = np.zeros(self.y.shape)\n",
    "        # Note \n",
    "        # yhat = m*x + b \n",
    "        # m = theta[0];  b = theta[1]\n",
    "        self.theta = \n",
    "        \n",
    "        \n",
    "    def forwardprop(self):\n",
    "        self.layer1 = sigmoid(np.dot(self.input,self.weights1))\n",
    "        self.output = sigmoid(np.dot(self.layer1,self.weights2))\n",
    "        \n",
    "    def backprop(self):\n",
    "        # Chain rule applied for Loss func der wrt W[hy] and W[xh] weight matrices\n",
    "        # define intermediate computes for d_weights2 computation \n",
    "        delta2  = 2*(self.y-self.output)*sigmoid_derivative(self.output)\n",
    "        # compute derivatives for weights2 matrix \n",
    "        d_weights2 = np.dot(self.layer1.T,delta2)\n",
    "        delta1 = np.dot(delta2,self.weights2.T)*sigmoid_derivative(self.layer1)\n",
    "        d_weights1 = np.dot(self.input.T,delta1)\n",
    "        # update weights \n",
    "        self.weights1 += d_weights1\n",
    "        self.weights2 += d_weights2\n",
    "        \n",
    "        \n",
    "        \n",
    "    \n",
    "    "
   ]
  },
  {
   "cell_type": "code",
   "execution_count": 4,
   "metadata": {},
   "outputs": [],
   "source": [
    "## Define Test data \n",
    "# XOR Table \n",
    "X = np.array([[0,0,1],[0,1,1],[1,0,1],[1,1,1]])\n",
    "y = np.array([[0],[1],[1],[0]])\n",
    "\n",
    "# Init call \n",
    "nn = NeuralNetwork(X,y)\n"
   ]
  },
  {
   "cell_type": "code",
   "execution_count": 5,
   "metadata": {},
   "outputs": [],
   "source": [
    "# Train through 1500 iterations \n",
    "loss = []\n",
    "for i in range(1500):\n",
    "    nn.forwardprop()\n",
    "    nn.backprop()\n",
    "    loss.append(mean_squared_error(nn.y,nn.output))\n",
    "    "
   ]
  },
  {
   "cell_type": "code",
   "execution_count": 6,
   "metadata": {},
   "outputs": [
    {
     "name": "stdout",
     "output_type": "stream",
     "text": [
      "[[0.01431983]\n",
      " [0.97929455]\n",
      " [0.97575642]\n",
      " [0.02558122]]\n"
     ]
    }
   ],
   "source": [
    "### Check output predicted \n",
    "print(nn.output)"
   ]
  },
  {
   "cell_type": "code",
   "execution_count": 10,
   "metadata": {},
   "outputs": [
    {
     "data": {
      "image/png": "[encoded data removed]",
      "text/plain": [
       "<Figure size 432x288 with 1 Axes>"
      ]
     },
     "metadata": {
      "needs_background": "light"
     },
     "output_type": "display_data"
    }
   ],
   "source": [
    "### Plot loss\n",
    "plot_loss(loss)"
   ]
  },
  {
   "cell_type": "code",
   "execution_count": null,
   "metadata": {},
   "outputs": [],
   "source": []
  }
 ],
 "metadata": {
  "kernelspec": {
   "display_name": "Python 3",
   "language": "python",
   "name": "python3"
  },
  "language_info": {
   "codemirror_mode": {
    "name": "ipython",
    "version": 3
   },
   "file_extension": ".py",
   "mimetype": "text/x-python",
   "name": "python",
   "nbconvert_exporter": "python",
   "pygments_lexer": "ipython3",
   "version": "3.8.3"
  }
 },
 "nbformat": 4,
 "nbformat_minor": 4
}
